{
 "cells": [
  {
   "cell_type": "code",
   "execution_count": null,
   "id": "a0f2aabd",
   "metadata": {},
   "outputs": [],
   "source": [
    "                                       --- Churn Analysis---\n",
    "    \n",
    "Churn analysis is the evaluation of a company’s customer loss rate in order to reduce it. \n",
    "Also referred to as customer attrition rate, \n",
    "churn can be minimized by assessing your product and how people use it.\n",
    "Churn analysis is the process of identifying and analyzing customers who are likely to stop using a product or service.\n",
    "By understanding the reasons behind customer churn, businesses can take proactive measures to retain their customers.\n",
    "\n",
    "\n",
    "\n"
   ]
  },
  {
   "cell_type": "code",
   "execution_count": null,
   "id": "2097b2c8",
   "metadata": {},
   "outputs": [],
   "source": [
    "---Customer Churn---\n",
    "It is when an existing customer, user, subscriber, or any kind of return client stops doing business or ends the relationship with a company.\n",
    "\n",
    "Types of Customer Churn –\n",
    "\n",
    "Contractual Churn : When a customer is under a contract for a service and decides to cancel the service e.g. Cable TV, SaaS.\n",
    "Voluntary Churn : When a user voluntarily cancels a service e.g. Cellular connection.\n",
    "Non-Contractual Churn : When a customer is not under a contract for a service and decides to cancel the service e.g. Consumer Loyalty in retail stores.\n",
    "Involuntary Churn : When a churn occurs without any request of the customer e.g. Credit card expiration.\n",
    "----Reasons for Voluntary Churn----\n",
    "\n",
    "Lack of usage\n",
    "Poor service\n",
    "Better price"
   ]
  },
  {
   "cell_type": "code",
   "execution_count": null,
   "id": "60022d4b",
   "metadata": {},
   "outputs": [],
   "source": [
    "# Import necessary libraries\n",
    "import pandas as pd\n",
    "from sklearn.model_selection import train_test_split\n",
    "from sklearn.ensemble import RandomForestClassifier\n",
    "from sklearn.metrics import accuracy_score\n",
    "\n",
    "# Load the dataset\n",
    "data = pd.read_csv('churn_dataset.csv')\n",
    "\n",
    "# Preprocess the data\n",
    "# (Perform necessary data cleaning, feature engineering, and transformation)\n",
    "\n",
    "# Split the data into training and testing sets\n",
    "X = data.drop('churn', axis=1)\n",
    "y = data['churn']\n",
    "X_train, X_test, y_train, y_test = train_test_split(X, y, test_size=0.2, random_state=42)\n",
    "\n",
    "# Train a Random Forest classifier\n",
    "model = RandomForestClassifier(n_estimators=100, random_state=42)\n",
    "model.fit(X_train, y_train)\n",
    "\n",
    "# Make predictions on the test set\n",
    "y_pred = model.predict(X_test)\n",
    "\n",
    "# Evaluate the model\n",
    "accuracy = accuracy_score(y_test, y_pred)\n",
    "print('Accuracy:', accuracy)\n"
   ]
  }
 ],
 "metadata": {
  "kernelspec": {
   "display_name": "Python 3 (ipykernel)",
   "language": "python",
   "name": "python3"
  },
  "language_info": {
   "codemirror_mode": {
    "name": "ipython",
    "version": 3
   },
   "file_extension": ".py",
   "mimetype": "text/x-python",
   "name": "python",
   "nbconvert_exporter": "python",
   "pygments_lexer": "ipython3",
   "version": "3.9.12"
  }
 },
 "nbformat": 4,
 "nbformat_minor": 5
}
